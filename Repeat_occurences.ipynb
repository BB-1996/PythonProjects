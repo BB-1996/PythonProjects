{
  "nbformat": 4,
  "nbformat_minor": 0,
  "metadata": {
    "colab": {
      "provenance": [],
      "authorship_tag": "ABX9TyOvRDp0jx9NssCm3+A+oSf8",
      "include_colab_link": true
    },
    "kernelspec": {
      "name": "python3",
      "display_name": "Python 3"
    },
    "language_info": {
      "name": "python"
    }
  },
  "cells": [
    {
      "cell_type": "markdown",
      "metadata": {
        "id": "view-in-github",
        "colab_type": "text"
      },
      "source": [
        "<a href=\"https://colab.research.google.com/github/BB-1996/PythonProjects/blob/main/Repeat_occurences.ipynb\" target=\"_parent\"><img src=\"https://colab.research.google.com/assets/colab-badge.svg\" alt=\"Open In Colab\"/></a>"
      ]
    },
    {
      "cell_type": "code",
      "execution_count": null,
      "metadata": {
        "colab": {
          "base_uri": "https://localhost:8080/"
        },
        "id": "2kYYJzXPUFUb",
        "outputId": "a2944a87-1b82-47be-bec0-237817c54d6c"
      },
      "outputs": [
        {
          "output_type": "stream",
          "name": "stdout",
          "text": [
            "{2: 4, 3: 2, 4: 3}\n",
            "even occurences = [2, 3]\n",
            "odd occ = [4]\n"
          ]
        }
      ],
      "source": [
        "#get the number of repitions in a list\n",
        "# 2 - 4 times, 3 - 2 times, 4 - 3 times\n",
        "bucket = {}\n",
        "user_list = [2,2,3,4,2,3,4,4,2]\n",
        "for i in user_list:\n",
        "  if i in bucket:\n",
        "    bucket[i] += 1\n",
        "  else:\n",
        "    bucket[i] = 1\n",
        "\n",
        "print(bucket)\n",
        "even_occ = []\n",
        "odd_occ = []\n",
        "for k in bucket:\n",
        "  if bucket[k]%2 == 0:\n",
        "    even_occ.append(k)\n",
        "\n",
        "  else:\n",
        "    odd_occ.append(k)\n",
        "\n",
        "#result \"even occurences - (2,3) | odd occurences - (4)\"\n",
        "print(f\"even occurences = {even_occ}\")\n",
        "print(f\"odd occ = {odd_occ}\")\n"
      ]
    },
    {
      "cell_type": "code",
      "source": [
        "+for k in bucket:\n",
        "  print(k,bucket[k])\n",
        "\n"
      ],
      "metadata": {
        "colab": {
          "base_uri": "https://localhost:8080/"
        },
        "id": "VHi0A67UX-Yv",
        "outputId": "435c63fc-980c-4114-d9ce-c14a1a3b1d69"
      },
      "execution_count": null,
      "outputs": [
        {
          "output_type": "stream",
          "name": "stdout",
          "text": [
            "2 4\n",
            "3 2\n",
            "4 3\n"
          ]
        }
      ]
    },
    {
      "cell_type": "code",
      "source": [],
      "metadata": {
        "id": "8PhS_nRmd7nt"
      },
      "execution_count": null,
      "outputs": []
    }
  ]
}